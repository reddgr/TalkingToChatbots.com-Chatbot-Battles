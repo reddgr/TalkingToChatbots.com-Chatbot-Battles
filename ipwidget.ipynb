{
 "cells": [
  {
   "cell_type": "markdown",
   "metadata": {},
   "source": [
    "Import libraries:"
   ]
  },
  {
   "cell_type": "code",
   "execution_count": 1,
   "metadata": {},
   "outputs": [],
   "source": [
    "import ipywidgets as widgets\n",
    "from IPython.display import display, HTML, clear_output\n",
    "from chatbot_manager import ChatbotManager"
   ]
  },
  {
   "cell_type": "markdown",
   "metadata": {},
   "source": [
    "Instantiate the app:"
   ]
  },
  {
   "cell_type": "code",
   "execution_count": 2,
   "metadata": {},
   "outputs": [],
   "source": [
    "# Instantiate the chatbot manager\n",
    "manager = ChatbotManager()\n",
    "\n",
    "# Create input fields\n",
    "title_input = widgets.Text(description='Battle Title:')\n",
    "name_input = widgets.Text(description='Chatbot Name:')\n",
    "link_input = widgets.Text(description='Link:')\n",
    "specificity_input = widgets.IntSlider(description='Specificity:', min=0, max=3, value=0)\n",
    "coherency_input = widgets.IntSlider(description='Coherency:', min=0, max=3, value=0)\n",
    "brevity_input = widgets.IntSlider(description='Brevity:', min=0, max=3, value=0)\n",
    "novelty_input = widgets.IntSlider(description='Novelty:', min=0, max=3, value=0)\n",
    "\n",
    "# Create buttons\n",
    "add_button = widgets.Button(description='Add Chatbot')\n",
    "generate_button = widgets.Button(description='Generate HTML')\n",
    "output_area = widgets.Output()\n",
    "\n",
    "# Function to add a chatbot\n",
    "def add_chatbot(b):\n",
    "    name = name_input.value\n",
    "    link = link_input.value\n",
    "    scores = {\n",
    "        'Specificity': specificity_input.value,\n",
    "        'Coherency': coherency_input.value,\n",
    "        'Brevity': brevity_input.value,\n",
    "        'Novelty': novelty_input.value,\n",
    "    }\n",
    "    manager.add_chatbot(name, link, scores)\n",
    "    with output_area:\n",
    "        clear_output()\n",
    "        print(f'Chatbot \"{name}\" added successfully!')\n",
    "\n",
    "# Function to generate HTML and save it to a file\n",
    "def generate_html(b):\n",
    "    title = title_input.value.strip()\n",
    "    if not title:\n",
    "        with output_area:\n",
    "            clear_output()\n",
    "            print(\"Error: Battle title cannot be empty.\")\n",
    "        return\n",
    "    \n",
    "    # Generate HTML content\n",
    "    html_content = manager.generate_html(title)\n",
    "    \n",
    "    # Save the HTML content to a file named after the battle title\n",
    "    filename = f\"{title.replace(' ', '_')}.html\"\n",
    "    with open(filename, 'w') as file:\n",
    "        file.write(html_content)\n",
    "    \n",
    "    # Display the generated HTML and its raw code\n",
    "    with output_area:\n",
    "        clear_output()\n",
    "        print(f'HTML saved as: {filename}')\n",
    "        print(\"Generated HTML Code:\")\n",
    "        print(html_content)  # Print the raw HTML code\n",
    "        display(HTML(html_content))  # Display the formatted HTML content\n",
    "\n",
    "# Attach functions to buttons\n",
    "add_button.on_click(add_chatbot)\n",
    "generate_button.on_click(generate_html)"
   ]
  },
  {
   "cell_type": "markdown",
   "metadata": {},
   "source": [
    "Display the app:"
   ]
  },
  {
   "cell_type": "code",
   "execution_count": 3,
   "metadata": {},
   "outputs": [
    {
     "data": {
      "application/vnd.jupyter.widget-view+json": {
       "model_id": "b46732bb0454422194ef8e8b2b326f0f",
       "version_major": 2,
       "version_minor": 0
      },
      "text/plain": [
       "Text(value='', description='Battle Title:')"
      ]
     },
     "metadata": {},
     "output_type": "display_data"
    },
    {
     "data": {
      "application/vnd.jupyter.widget-view+json": {
       "model_id": "18f3c4dcd73140939dba42c85a1e5648",
       "version_major": 2,
       "version_minor": 0
      },
      "text/plain": [
       "Text(value='', description='Chatbot Name:')"
      ]
     },
     "metadata": {},
     "output_type": "display_data"
    },
    {
     "data": {
      "application/vnd.jupyter.widget-view+json": {
       "model_id": "4995b32fa9674dbab967065d93eff6be",
       "version_major": 2,
       "version_minor": 0
      },
      "text/plain": [
       "Text(value='', description='Link:')"
      ]
     },
     "metadata": {},
     "output_type": "display_data"
    },
    {
     "data": {
      "application/vnd.jupyter.widget-view+json": {
       "model_id": "57325d43bbc746ce85cb8e12b2e29ee7",
       "version_major": 2,
       "version_minor": 0
      },
      "text/plain": [
       "IntSlider(value=0, description='Specificity:', max=3)"
      ]
     },
     "metadata": {},
     "output_type": "display_data"
    },
    {
     "data": {
      "application/vnd.jupyter.widget-view+json": {
       "model_id": "a0a5181609ee476995a0845edc01d3eb",
       "version_major": 2,
       "version_minor": 0
      },
      "text/plain": [
       "IntSlider(value=0, description='Coherency:', max=3)"
      ]
     },
     "metadata": {},
     "output_type": "display_data"
    },
    {
     "data": {
      "application/vnd.jupyter.widget-view+json": {
       "model_id": "7e47f6028fda46a28075f9fff44e81b7",
       "version_major": 2,
       "version_minor": 0
      },
      "text/plain": [
       "IntSlider(value=0, description='Brevity:', max=3)"
      ]
     },
     "metadata": {},
     "output_type": "display_data"
    },
    {
     "data": {
      "application/vnd.jupyter.widget-view+json": {
       "model_id": "9b11a168a7ad4d46bf7298e066223bb5",
       "version_major": 2,
       "version_minor": 0
      },
      "text/plain": [
       "IntSlider(value=0, description='Novelty:', max=3)"
      ]
     },
     "metadata": {},
     "output_type": "display_data"
    },
    {
     "data": {
      "application/vnd.jupyter.widget-view+json": {
       "model_id": "a7c4a4b91cde43e3bb30a69d64e88dfa",
       "version_major": 2,
       "version_minor": 0
      },
      "text/plain": [
       "Button(description='Add Chatbot', style=ButtonStyle())"
      ]
     },
     "metadata": {},
     "output_type": "display_data"
    },
    {
     "data": {
      "application/vnd.jupyter.widget-view+json": {
       "model_id": "a0102776f16b4507b6e6761821ebe659",
       "version_major": 2,
       "version_minor": 0
      },
      "text/plain": [
       "Button(description='Generate HTML', style=ButtonStyle())"
      ]
     },
     "metadata": {},
     "output_type": "display_data"
    },
    {
     "data": {
      "application/vnd.jupyter.widget-view+json": {
       "model_id": "52ccfd167a0b4d96a764185362dc6b83",
       "version_major": 2,
       "version_minor": 0
      },
      "text/plain": [
       "Output()"
      ]
     },
     "metadata": {},
     "output_type": "display_data"
    }
   ],
   "source": [
    "# Display widgets\n",
    "display(title_input, name_input, link_input, specificity_input, coherency_input, brevity_input, novelty_input)\n",
    "display(add_button, generate_button, output_area)"
   ]
  }
 ],
 "metadata": {
  "kernelspec": {
   "display_name": "base",
   "language": "python",
   "name": "python3"
  },
  "language_info": {
   "codemirror_mode": {
    "name": "ipython",
    "version": 3
   },
   "file_extension": ".py",
   "mimetype": "text/x-python",
   "name": "python",
   "nbconvert_exporter": "python",
   "pygments_lexer": "ipython3",
   "version": "3.11.5"
  }
 },
 "nbformat": 4,
 "nbformat_minor": 2
}
