{
 "cells": [
  {
   "cell_type": "markdown",
   "metadata": {},
   "source": [
    "Import libraries:"
   ]
  },
  {
   "cell_type": "code",
   "execution_count": 1,
   "metadata": {},
   "outputs": [],
   "source": [
    "import ipywidgets as widgets\n",
    "from IPython.display import display, HTML, clear_output\n",
    "from chatbot_manager import ChatbotManager"
   ]
  },
  {
   "cell_type": "markdown",
   "metadata": {},
   "source": [
    "Instantiate the app:"
   ]
  },
  {
   "cell_type": "code",
   "execution_count": 2,
   "metadata": {},
   "outputs": [],
   "source": [
    "# Instantiate the chatbot manager\n",
    "manager = ChatbotManager()\n",
    "\n",
    "# Create input fields\n",
    "title_input = widgets.Text(description='Battle Title:')\n",
    "name_input = widgets.Text(description='Chatbot Name:')\n",
    "link_input = widgets.Text(description='Link:')\n",
    "specificity_input = widgets.IntSlider(description='Specificity:', min=0, max=3, value=0)\n",
    "coherency_input = widgets.IntSlider(description='Coherency:', min=0, max=3, value=0)\n",
    "brevity_input = widgets.IntSlider(description='Brevity:', min=0, max=3, value=0)\n",
    "novelty_input = widgets.IntSlider(description='Novelty:', min=0, max=3, value=0)\n",
    "\n",
    "# Create buttons\n",
    "add_button = widgets.Button(description='Add Chatbot')\n",
    "generate_button = widgets.Button(description='Generate HTML')\n",
    "output_area = widgets.Output()\n",
    "\n",
    "# Function to add a chatbot\n",
    "def add_chatbot(b):\n",
    "    name = name_input.value\n",
    "    link = link_input.value\n",
    "    scores = {\n",
    "        'Specificity': specificity_input.value,\n",
    "        'Coherency': coherency_input.value,\n",
    "        'Brevity': brevity_input.value,\n",
    "        'Novelty': novelty_input.value,\n",
    "    }\n",
    "    manager.add_chatbot(name, link, scores)\n",
    "    with output_area:\n",
    "        clear_output()\n",
    "        print(f'Chatbot \"{name}\" added successfully!')\n",
    "\n",
    "# Function to generate HTML and save it to a file\n",
    "def generate_html(b):\n",
    "    title = title_input.value.strip()\n",
    "    if not title:\n",
    "        with output_area:\n",
    "            clear_output()\n",
    "            print(\"Error: Battle title cannot be empty.\")\n",
    "        return\n",
    "    \n",
    "    # Generate HTML content\n",
    "    html_content = manager.generate_html(title)\n",
    "    \n",
    "    # Save the HTML content to a file named after the battle title\n",
    "    filename = f\"{title.replace(' ', '_')}.html\"\n",
    "    with open(filename, 'w') as file:\n",
    "        file.write(html_content)\n",
    "    \n",
    "    # Display the generated HTML and its raw code\n",
    "    with output_area:\n",
    "        clear_output()\n",
    "        print(f'HTML saved as: {filename}')\n",
    "        print(\"Generated HTML Code:\")\n",
    "        print(html_content)  # Print the raw HTML code\n",
    "        display(HTML(html_content))  # Display the formatted HTML content\n",
    "\n",
    "# Attach functions to buttons\n",
    "add_button.on_click(add_chatbot)\n",
    "generate_button.on_click(generate_html)"
   ]
  },
  {
   "cell_type": "markdown",
   "metadata": {},
   "source": [
    "Display the app:"
   ]
  },
  {
   "cell_type": "code",
   "execution_count": 3,
   "metadata": {},
   "outputs": [
    {
     "data": {
      "application/vnd.jupyter.widget-view+json": {
       "model_id": "67feaeeb1436480090de473cb850d8cc",
       "version_major": 2,
       "version_minor": 0
      },
      "text/plain": [
       "Text(value='', description='Battle Title:')"
      ]
     },
     "metadata": {},
     "output_type": "display_data"
    },
    {
     "data": {
      "application/vnd.jupyter.widget-view+json": {
       "model_id": "19a067af4a2c4919a7fc8c1e1435be8d",
       "version_major": 2,
       "version_minor": 0
      },
      "text/plain": [
       "Text(value='', description='Chatbot Name:')"
      ]
     },
     "metadata": {},
     "output_type": "display_data"
    },
    {
     "data": {
      "application/vnd.jupyter.widget-view+json": {
       "model_id": "84e9728f79a04cf69014afca02d742d8",
       "version_major": 2,
       "version_minor": 0
      },
      "text/plain": [
       "Text(value='', description='Link:')"
      ]
     },
     "metadata": {},
     "output_type": "display_data"
    },
    {
     "data": {
      "application/vnd.jupyter.widget-view+json": {
       "model_id": "e88f7a4b88a8424c9ed899e022c2809e",
       "version_major": 2,
       "version_minor": 0
      },
      "text/plain": [
       "IntSlider(value=0, description='Specificity:', max=3)"
      ]
     },
     "metadata": {},
     "output_type": "display_data"
    },
    {
     "data": {
      "application/vnd.jupyter.widget-view+json": {
       "model_id": "04329a491ce049158275dc7b741bddfa",
       "version_major": 2,
       "version_minor": 0
      },
      "text/plain": [
       "IntSlider(value=0, description='Coherency:', max=3)"
      ]
     },
     "metadata": {},
     "output_type": "display_data"
    },
    {
     "data": {
      "application/vnd.jupyter.widget-view+json": {
       "model_id": "eb8c9e1f400b49fabd41fe530fac37bc",
       "version_major": 2,
       "version_minor": 0
      },
      "text/plain": [
       "IntSlider(value=0, description='Brevity:', max=3)"
      ]
     },
     "metadata": {},
     "output_type": "display_data"
    },
    {
     "data": {
      "application/vnd.jupyter.widget-view+json": {
       "model_id": "9349c5d4005e409aa14c3162834d5a36",
       "version_major": 2,
       "version_minor": 0
      },
      "text/plain": [
       "IntSlider(value=0, description='Novelty:', max=3)"
      ]
     },
     "metadata": {},
     "output_type": "display_data"
    },
    {
     "data": {
      "application/vnd.jupyter.widget-view+json": {
       "model_id": "900dd5c4438b469eb6fada80ddf0ff6a",
       "version_major": 2,
       "version_minor": 0
      },
      "text/plain": [
       "Button(description='Add Chatbot', style=ButtonStyle())"
      ]
     },
     "metadata": {},
     "output_type": "display_data"
    },
    {
     "data": {
      "application/vnd.jupyter.widget-view+json": {
       "model_id": "834737cb6993477a8af64ad3d8339b3e",
       "version_major": 2,
       "version_minor": 0
      },
      "text/plain": [
       "Button(description='Generate HTML', style=ButtonStyle())"
      ]
     },
     "metadata": {},
     "output_type": "display_data"
    },
    {
     "data": {
      "application/vnd.jupyter.widget-view+json": {
       "model_id": "548fa3fcad334083ac559c655664cdb1",
       "version_major": 2,
       "version_minor": 0
      },
      "text/plain": [
       "Output()"
      ]
     },
     "metadata": {},
     "output_type": "display_data"
    }
   ],
   "source": [
    "# Display widgets\n",
    "display(title_input, name_input, link_input, specificity_input, coherency_input, brevity_input, novelty_input)\n",
    "display(add_button, generate_button, output_area)"
   ]
  }
 ],
 "metadata": {
  "kernelspec": {
   "display_name": "Python 3",
   "language": "python",
   "name": "python3"
  },
  "language_info": {
   "codemirror_mode": {
    "name": "ipython",
    "version": 3
   },
   "file_extension": ".py",
   "mimetype": "text/x-python",
   "name": "python",
   "nbconvert_exporter": "python",
   "pygments_lexer": "ipython3",
   "version": "3.11.5"
  }
 },
 "nbformat": 4,
 "nbformat_minor": 2
}
